{
  "nbformat": 4,
  "nbformat_minor": 0,
  "metadata": {
    "colab": {
      "provenance": [],
      "authorship_tag": "ABX9TyOnX7OwafRUu9hj85PpCm3Z",
      "include_colab_link": true
    },
    "kernelspec": {
      "name": "python3",
      "display_name": "Python 3"
    },
    "language_info": {
      "name": "python"
    }
  },
  "cells": [
    {
      "cell_type": "markdown",
      "metadata": {
        "id": "view-in-github",
        "colab_type": "text"
      },
      "source": [
        "<a href=\"https://colab.research.google.com/github/kuriatsu/learning_genetic_algorithms/blob/main/ga_2023rwdc_shokki.ipynb\" target=\"_parent\"><img src=\"https://colab.research.google.com/assets/colab-badge.svg\" alt=\"Open In Colab\"/></a>"
      ]
    },
    {
      "cell_type": "code",
      "execution_count": 4,
      "metadata": {
        "colab": {
          "base_uri": "https://localhost:8080/"
        },
        "id": "XDIZ97L-w8sP",
        "outputId": "4b2c7e02-e965-45d5-92fb-415fabb4dfb4"
      },
      "outputs": [
        {
          "output_type": "stream",
          "name": "stdout",
          "text": [
            "Collecting deap\n",
            "  Downloading deap-1.4.1-cp310-cp310-manylinux_2_5_x86_64.manylinux1_x86_64.manylinux_2_17_x86_64.manylinux2014_x86_64.whl (135 kB)\n",
            "\u001b[?25l     \u001b[90m━━━━━━━━━━━━━━━━━━━━━━━━━━━━━━━━━━━━━━━━\u001b[0m \u001b[32m0.0/135.4 kB\u001b[0m \u001b[31m?\u001b[0m eta \u001b[36m-:--:--\u001b[0m\r\u001b[2K     \u001b[90m━━━━━━━━━━━━━━━━━━━━━━━━━━━━━━━━━━━━━━━━\u001b[0m \u001b[32m135.4/135.4 kB\u001b[0m \u001b[31m3.8 MB/s\u001b[0m eta \u001b[36m0:00:00\u001b[0m\n",
            "\u001b[?25hRequirement already satisfied: numpy in /usr/local/lib/python3.10/dist-packages (from deap) (1.23.5)\n",
            "Installing collected packages: deap\n",
            "Successfully installed deap-1.4.1\n"
          ]
        }
      ],
      "source": [
        "!pip install deap"
      ]
    },
    {
      "cell_type": "markdown",
      "source": [
        "# 必要なモジュールのインポート  \n",
        "遺伝的アルゴリズムの計算には、DEAPを使用  \n",
        "pprintは辞書型のprintをファンシーにしてくれる\n",
        "\n",
        "* 公式ドキュメント\n",
        "https://deap.readthedocs.io/en/master/index.html  \n",
        "* 日本語説明ブログ\n",
        "https://dse-souken.com/2021/05/25/ai-19/  \n",
        "* Github\n",
        "https://github.com/DEAP/deap/tree/60913c5543abf8318ddce0492e8ffcdf37974d86"
      ],
      "metadata": {
        "id": "Ecd7Z0KS1Ujq"
      }
    },
    {
      "cell_type": "code",
      "source": [
        "import random\n",
        "import numpy as np\n",
        "from pprint import pprint\n",
        "\n",
        "from deap import algorithms\n",
        "from deap import base\n",
        "from deap import creator\n",
        "from deap import tools"
      ],
      "metadata": {
        "id": "6zJ80TwvxWTl"
      },
      "execution_count": 5,
      "outputs": []
    },
    {
      "cell_type": "markdown",
      "source": [
        "# 変数定義\n",
        "DAY : 計画期間（30日間の配送拠点を計画する）\n",
        "LIFT_NUM : リフトの数\n",
        "\n",
        "リフトのデータベース  \n",
        "* id : リフトID\n",
        "* base : 拠点\n",
        "* capacity : 燃料タンク容量[L]\n",
        "* cosumption : 1日ごとののリフト消費量予測(リフト03 : 毎日3L消費)\n",
        "* initial_remaining : 計画期間初日の燃料残量\n",
        "* remaining : N日目の燃料残量、GA計算中にN日目の燃料残量をシミュレーションするために使用する変数"
      ],
      "metadata": {
        "id": "7dMaRWsR2GB_"
      }
    },
    {
      "cell_type": "code",
      "source": [
        "DAY=30\n",
        "\n",
        "lifts = [\n",
        "  {\n",
        "    \"id\":\"03\",\n",
        "    \"base\": \"kariya\",\n",
        "    \"capacity\": 60,\n",
        "    \"consumption\": [3]*DAY,\n",
        "    \"initial_remaining\": 60,\n",
        "    \"remaining\": 60,\n",
        "  },\n",
        "  {\n",
        "    \"id\":\"30\",\n",
        "    \"base\": \"takahama\",\n",
        "    \"capacity\": 60,\n",
        "    \"consumption\": [2]*DAY,\n",
        "    \"initial_remaining\": 40,\n",
        "    \"remaining\": 40,\n",
        "  },\n",
        "  {\n",
        "    \"id\":\"52\",\n",
        "    \"base\": \"takahama\",\n",
        "    \"capacity\": 60,\n",
        "    \"consumption\": [1]*DAY,\n",
        "    \"initial_remaining\": 10,\n",
        "    \"remaining\": 10,\n",
        "  },\n",
        "  {\n",
        "    \"id\":\"19\",\n",
        "    \"base\": \"higashiura\",\n",
        "    \"capacity\": 60,\n",
        "    \"consumption\": [2]*DAY,\n",
        "    \"initial_remaining\": 30,\n",
        "    \"remaining\": 30,\n",
        "  },\n",
        "  {\n",
        "    \"id\":\"32\",\n",
        "    \"base\": \"higashiura\",\n",
        "    \"capacity\": 60,\n",
        "    \"consumption\": [1]*DAY,\n",
        "    \"initial_remaining\": 10,\n",
        "    \"remaining\": 10,\n",
        "  },\n",
        "]\n",
        "\n",
        "LIFT_NUM=len(lifts)"
      ],
      "metadata": {
        "id": "CdQ-3S0Y7_MJ"
      },
      "execution_count": 6,
      "outputs": []
    },
    {
      "cell_type": "markdown",
      "source": [],
      "metadata": {
        "id": "5NyEvoOv4XKD"
      }
    },
    {
      "cell_type": "markdown",
      "source": [
        "# DEAPモデル構築  \n",
        "遺伝的アルゴリズムの肝となる、親世代から子世代への遺伝方法は、いくつか選択肢があるので、調査してよりよいものを試してみてください\n",
        "* トーナメント方式の選択肢 : https://github.com/DEAP/deap/blob/master/deap/tools/selection.py\n",
        "* 交叉関数の選択肢 : https://github.com/DEAP/deap/blob/master/deap/tools/crossover.py\n",
        "* 突然変異関数の選択肢 : https://github.com/DEAP/deap/blob/master/deap/tools/mutation.py\n",
        "\n",
        "## サンプルの内約  \n",
        "```python\n",
        "[0, 1, 10, 0, ...]\n",
        " |-> 00000 = 1日目、どこにも配送しない\n",
        "    |-> 00001 = 2日目、\"lifts\"の0番目のリフト(03)へ給油\n",
        "       |-> 01010 = 3日目、\"lifts\"の1と3番目のリフトへ給油\n",
        "```"
      ],
      "metadata": {
        "id": "iI_Gqr9W4ian"
      }
    },
    {
      "cell_type": "code",
      "source": [
        "## 最小化問題として定義するので、-1.0を与える\n",
        "creator.create(\"FitnessMin\", base.Fitness, weights=(-1.0,))\n",
        "## 1計画サンプルの定義、リスト内に30日分の配送計画が格納される\n",
        "creator.create(\"Individual\", list, fitness=creator.FitnessMin)\n",
        "\n",
        "## GAに必要な各種関数の定義\n",
        "toolbox = base.Toolbox()\n",
        "## 1日の配送計画の値の生成方法(各リフトへの給油の組み合わせ=2^LIFT_NUM)\n",
        "toolbox.register(\"attribute\", random.randint, 0, 2**LIFT_NUM)\n",
        "## 各サンプルに含まれる30日分の計画をattributeによって決定することを登録\n",
        "toolbox.register(\"individual\", tools.initRepeat, creator.Individual, toolbox.attribute, DAY)\n",
        "## サンプル集団の個体数を決定するための関数\n",
        "toolbox.register(\"population\", tools.initRepeat, list, toolbox.individual)\n",
        "\n",
        "## トーナメント方式で次世代に子を残す親を選択, サンプル集団内で上から5番めまでのサンプルを次の世代に残す\n",
        "toolbox.register(\"select\", tools.selTournament, tournsize=5)\n",
        "## 交叉関数を設定。2点交叉を採用\n",
        "toolbox.register(\"mate\", tools.cxTwoPoint)\n",
        "## 突然変異関数の設定。0.2の確率で次の世代で突然変異を起こす。変異の幅(low-up)はサンプルが取りうる値の幅\n",
        "toolbox.register(\"mutate\", tools.mutUniformInt, low=0, up=2**LIFT_NUM, indpb=0.2)"
      ],
      "metadata": {
        "id": "t0RvjqxLy5N5"
      },
      "execution_count": 7,
      "outputs": []
    },
    {
      "cell_type": "markdown",
      "source": [
        "# 評価関数\n",
        "## モデル\n",
        "* 毎日予測した消費量`consumption`に従ってリフトのタンクの燃料`remaining`が減っていく\n",
        "* 給油されると満タンになる（`remaining = capacity`）\n",
        "\n",
        "## 評価\n",
        "* １拠点に配送すると+10\n",
        "* リフトの残燃料が２日分を切ると+1000\n",
        "* この点数（`reward`）を最小化するように`DAY`日分の配送計画を立てる\n",
        "\n",
        "## 実装できていない部分\n",
        "* 配送拠点リストに対する配送順序と、消費燃料の評価が行われていない（各拠点ごとに+10してるだけ）\n",
        "* 給油時間、配送時間は目的関数や制約に含まれていない\n",
        "* トラックの積載上限は考慮していない（各リフトのタンク容量が90L程度で、トラック積載量が4000Lとかなので、余裕？）\n"
      ],
      "metadata": {
        "id": "pj-LAwyn6-Or"
      }
    },
    {
      "cell_type": "code",
      "source": [
        "def evalPlan(individual):\n",
        "  \"\"\"各サンプルの評価関数\n",
        "  ~args~\n",
        "  individual : １サンプル\n",
        "  ~returns~\n",
        "  reward : 評価関数の値(末尾に,が必要らしい)\n",
        "  \"\"\"\n",
        "  reward = 0 ## この値を最小化\n",
        "\n",
        "  ## リフトの残燃料を初期化\n",
        "  for lift_index, lift in enumerate(lifts):\n",
        "    lift[\"remaining\"] = lift[\"initial_remaining\"]\n",
        "\n",
        "  ## 配送とリフトの残燃料をシミュレート\n",
        "  for day, supply_plan_in_a_day in enumerate(individual):\n",
        "    delivery = set() ## １日の配送拠点\n",
        "    time = 0 ## 配送にかかった時間[min] (まだ何にも使用してない)\n",
        "\n",
        "    for lift_index, lift in enumerate(lifts):\n",
        "      ## 残燃料が2日分(今日と明日分)以下になったらペナルティ\n",
        "      if (day+1 < DAY-1 and lift[\"remaining\"] - lift[\"consumption\"][day] - lift[\"consumption\"][day+1] < 0) or \\\n",
        "         (day   > 0       and lift[\"remaining\"] - lift[\"consumption\"][day-1] - lift[\"consumption\"][day] < 0):\n",
        "        reward += 1000\n",
        "\n",
        "      ## 燃料を消費\n",
        "      lift[\"remaining\"] -= lift[\"consumption\"][day]\n",
        "\n",
        "      ## day日目の給油計画にlift番目のリフトが存在するかチェック(ビット演算)\n",
        "      if supply_plan_in_a_day & (1<<lift_index):\n",
        "        delivery.add(lift[\"base\"]) ## 給油拠点をリストに追加\n",
        "        time += 0.03 * (lift[\"capacity\"] - lift[\"remaining\"]) ## 給油時間を計算\n",
        "        lift[\"remaining\"] = lift[\"capacity\"] ## 燃料満タン\n",
        "\n",
        "    ## 1日の配送拠点に対するペナルティ\n",
        "    for delivery_base in delivery:\n",
        "      reward += 10 # 拠点へ配送した際のペナルティ(適当)\n",
        "      time += 90 # 配送時間90分(適当)\n",
        "\n",
        "  return reward,\n",
        "\n",
        "toolbox.register(\"evaluate\", evalPlan)"
      ],
      "metadata": {
        "id": "YDc1EFta6zj-"
      },
      "execution_count": 8,
      "outputs": []
    },
    {
      "cell_type": "markdown",
      "source": [
        "# 最適化開始\n",
        "パレートフロントを解としているが、多目的最適化問題のための関数な気がする。。。  \n",
        "初期サンプル10000とかだと結構時間かかる  \n",
        "100とかだとあまり最適化されない？  "
      ],
      "metadata": {
        "id": "lylS8sxe9P9h"
      }
    },
    {
      "cell_type": "code",
      "source": [
        "random.seed(64)\n",
        "\n",
        "pop = toolbox.population(n=3000) ## 最初にnサンプル作成\n",
        "hof = tools.ParetoFront() ## どのように最適解を得るかを決定\n",
        "\n",
        "## 各世代のサンプルのrewardに対する統計情報を表示する\n",
        "stats = tools.Statistics(lambda ind: ind.fitness.values)\n",
        "stats.register(\"avg\", np.mean)\n",
        "stats.register(\"std\", np.std)\n",
        "stats.register(\"min\", np.min)\n",
        "stats.register(\"max\", np.max)\n",
        "\n",
        "## 最適化開始、ngen世代まで生成\n",
        "pop, log = algorithms.eaSimple(pop, toolbox, cxpb=0.5, mutpb=0.2, ngen=40, stats=stats, halloffame=hof, verbose=True)"
      ],
      "metadata": {
        "colab": {
          "base_uri": "https://localhost:8080/"
        },
        "id": "utECjXxKJj7d",
        "outputId": "f83241cc-858a-49c5-e515-0ada1cd612d9"
      },
      "execution_count": 16,
      "outputs": [
        {
          "output_type": "stream",
          "name": "stdout",
          "text": [
            "gen\tnevals\tavg   \tstd    \tmin\tmax \n",
            "0  \t3000  \t597.93\t228.996\t420\t7550\n",
            "1  \t1764  \t534.167\t97.8112\t410\t4430\n",
            "2  \t1822  \t507.28 \t254.4  \t370\t9490\n",
            "3  \t1833  \t466.367\t149.471\t340\t5500\n",
            "4  \t1838  \t441.07 \t218.414\t320\t8410\n",
            "5  \t1800  \t418.26 \t361    \t280\t15360\n",
            "6  \t1834  \t387.487\t257.543\t260\t8340 \n",
            "7  \t1817  \t380.973\t380.945\t220\t8290 \n",
            "8  \t1844  \t369.547\t492.948\t210\t10260\n",
            "9  \t1817  \t349.957\t538.839\t180\t14260\n",
            "10 \t1782  \t421.283\t1038.06\t170\t20200\n",
            "11 \t1825  \t400.887\t1051.33\t160\t21170\n",
            "12 \t1790  \t499.69 \t1391.88\t140\t20200\n",
            "13 \t1786  \t461.257\t1236.47\t130\t19280\n",
            "14 \t1823  \t568.917\t1833.43\t120\t22130\n",
            "15 \t1819  \t595.707\t1903.33\t110\t21170\n",
            "16 \t1754  \t585.543\t1929.4 \t100\t21140\n",
            "17 \t1831  \t752.143\t2362.36\t90 \t21140\n",
            "18 \t1789  \t869.727\t2927.69\t80 \t33080\n",
            "19 \t1783  \t942.49 \t3103.7 \t70 \t29070\n",
            "20 \t1791  \t1034.69\t3238.75\t70 \t32100\n",
            "21 \t1740  \t1037.14\t3350.39\t50 \t38060\n",
            "22 \t1790  \t1275.28\t4039.23\t50 \t40060\n",
            "23 \t1809  \t1378.82\t4615.24\t50 \t41060\n",
            "24 \t1828  \t1806.92\t5511.13\t40 \t57050\n",
            "25 \t1875  \t1735.47\t5430.35\t40 \t45040\n",
            "26 \t1795  \t1683.42\t5527.85\t30 \t53030\n",
            "27 \t1793  \t1933.7 \t6386.36\t30 \t58030\n",
            "28 \t1743  \t1738.91\t6588.52\t30 \t80000\n",
            "29 \t1787  \t1740.14\t6779.72\t30 \t69020\n",
            "30 \t1830  \t1892.1 \t7685.55\t30 \t69010\n",
            "31 \t1829  \t1720.03\t7539.82\t30 \t80000\n",
            "32 \t1790  \t1358.23\t6468.8 \t30 \t69010\n",
            "33 \t1781  \t1417.45\t6277.82\t30 \t69010\n",
            "34 \t1810  \t1361.06\t6379.19\t30 \t80000\n",
            "35 \t1732  \t1314.3 \t5974.07\t30 \t80000\n",
            "36 \t1781  \t1477.59\t7033.95\t30 \t80000\n",
            "37 \t1863  \t1510.72\t7237.09\t30 \t80000\n",
            "38 \t1725  \t1254.57\t6356.25\t30 \t80000\n",
            "39 \t1815  \t1526.55\t7461.75\t30 \t80000\n",
            "40 \t1844  \t1457.77\t6920.5 \t30 \t80000\n"
          ]
        }
      ]
    },
    {
      "cell_type": "markdown",
      "source": [
        "# 結果出力"
      ],
      "metadata": {
        "id": "htYY2N8r-jcm"
      }
    },
    {
      "cell_type": "code",
      "source": [
        "def decodePlan(individual):\n",
        "  \"\"\"配送計画のデコード\n",
        "  ~args~\n",
        "  individual : サンプル\n",
        "  ~returns~\n",
        "  plan : DAY日分の配送計画、給油対象のリフト\n",
        "  \"\"\"\n",
        "  plan = {}\n",
        "  for day, supply_plan_in_a_day in enumerate(individual):\n",
        "    delivery = set()\n",
        "    supply_lift = []\n",
        "    for lift_index, lift in enumerate(lifts):\n",
        "      if supply_plan_in_a_day & (1<<lift_index):\n",
        "        delivery.add(lift[\"base\"])\n",
        "        supply_lift.append(lift[\"id\"])\n",
        "    plan[f\"day_{day+1}\"] = {\"base\":delivery, \"lift\": supply_lift}\n",
        "  return plan"
      ],
      "metadata": {
        "id": "UkqJwZISw-pZ"
      },
      "execution_count": 17,
      "outputs": []
    },
    {
      "cell_type": "code",
      "source": [
        "## 最適なサンプルの抽出\n",
        "best_plan = tools.selBest(pop, 1)[0]\n",
        "## サンプルをデコード\n",
        "plan = decodePlan(best_plan)\n",
        "\n",
        "## 表示\n",
        "print(\"the best plan is \")\n",
        "pprint(plan)\n",
        "print(f\"penalty: {best_plan.fitness.values}\")"
      ],
      "metadata": {
        "colab": {
          "base_uri": "https://localhost:8080/"
        },
        "id": "CS5kMh050F_2",
        "outputId": "dd11651f-0938-40b3-b4de-1fcb1fad9fb9"
      },
      "execution_count": 18,
      "outputs": [
        {
          "output_type": "stream",
          "name": "stdout",
          "text": [
            "the best plan is \n",
            "{'day_1': {'base': set(), 'lift': []},\n",
            " 'day_10': {'base': set(), 'lift': []},\n",
            " 'day_11': {'base': set(), 'lift': []},\n",
            " 'day_12': {'base': set(), 'lift': []},\n",
            " 'day_13': {'base': set(), 'lift': []},\n",
            " 'day_14': {'base': set(), 'lift': []},\n",
            " 'day_15': {'base': set(), 'lift': []},\n",
            " 'day_16': {'base': set(), 'lift': []},\n",
            " 'day_17': {'base': set(), 'lift': []},\n",
            " 'day_18': {'base': {'kariya'}, 'lift': ['03']},\n",
            " 'day_19': {'base': set(), 'lift': []},\n",
            " 'day_2': {'base': set(), 'lift': []},\n",
            " 'day_20': {'base': set(), 'lift': []},\n",
            " 'day_21': {'base': set(), 'lift': []},\n",
            " 'day_22': {'base': set(), 'lift': []},\n",
            " 'day_23': {'base': set(), 'lift': []},\n",
            " 'day_24': {'base': set(), 'lift': []},\n",
            " 'day_25': {'base': set(), 'lift': []},\n",
            " 'day_26': {'base': set(), 'lift': []},\n",
            " 'day_27': {'base': set(), 'lift': []},\n",
            " 'day_28': {'base': set(), 'lift': []},\n",
            " 'day_29': {'base': set(), 'lift': []},\n",
            " 'day_3': {'base': set(), 'lift': []},\n",
            " 'day_30': {'base': set(), 'lift': []},\n",
            " 'day_4': {'base': set(), 'lift': []},\n",
            " 'day_5': {'base': set(), 'lift': []},\n",
            " 'day_6': {'base': set(), 'lift': []},\n",
            " 'day_7': {'base': set(), 'lift': []},\n",
            " 'day_8': {'base': {'takahama', 'higashiura'},\n",
            "           'lift': ['30', '52', '19', '32']},\n",
            " 'day_9': {'base': set(), 'lift': []}}\n",
            "penalty: (30.0,)\n"
          ]
        }
      ]
    }
  ]
}