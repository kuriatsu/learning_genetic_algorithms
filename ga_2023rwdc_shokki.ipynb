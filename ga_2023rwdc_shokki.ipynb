{
  "nbformat": 4,
  "nbformat_minor": 0,
  "metadata": {
    "colab": {
      "provenance": [],
      "authorship_tag": "ABX9TyMPXSVSImtcmC/cNS1tBnwb",
      "include_colab_link": true
    },
    "kernelspec": {
      "name": "python3",
      "display_name": "Python 3"
    },
    "language_info": {
      "name": "python"
    }
  },
  "cells": [
    {
      "cell_type": "markdown",
      "metadata": {
        "id": "view-in-github",
        "colab_type": "text"
      },
      "source": [
        "<a href=\"https://colab.research.google.com/github/kuriatsu/learning_genetic_algorithms/blob/main/ga_2023rwdc_shokki.ipynb\" target=\"_parent\"><img src=\"https://colab.research.google.com/assets/colab-badge.svg\" alt=\"Open In Colab\"/></a>"
      ]
    },
    {
      "cell_type": "code",
      "execution_count": 49,
      "metadata": {
        "colab": {
          "base_uri": "https://localhost:8080/"
        },
        "id": "XDIZ97L-w8sP",
        "outputId": "c794b331-2577-449c-cc4f-8d77d95eddd4"
      },
      "outputs": [
        {
          "output_type": "stream",
          "name": "stdout",
          "text": [
            "Requirement already satisfied: deap in /usr/local/lib/python3.10/dist-packages (1.4.1)\n",
            "Requirement already satisfied: numpy in /usr/local/lib/python3.10/dist-packages (from deap) (1.23.5)\n"
          ]
        }
      ],
      "source": [
        "!pip install deap"
      ]
    },
    {
      "cell_type": "markdown",
      "source": [
        "# 必要なモジュールのインポート  \n",
        "遺伝的アルゴリズムの計算には、DEAPを使用  \n",
        "pprintは辞書型のprintをファンシーにしてくれる\n",
        "\n",
        "* 公式ドキュメント\n",
        "https://deap.readthedocs.io/en/master/index.html  \n",
        "* 日本語説明ブログ\n",
        "https://dse-souken.com/2021/05/25/ai-19/  \n",
        "* Github\n",
        "https://github.com/DEAP/deap/tree/60913c5543abf8318ddce0492e8ffcdf37974d86"
      ],
      "metadata": {
        "id": "Ecd7Z0KS1Ujq"
      }
    },
    {
      "cell_type": "code",
      "source": [
        "import random\n",
        "import numpy as np\n",
        "from pprint import pprint\n",
        "\n",
        "from deap import algorithms\n",
        "from deap import base\n",
        "from deap import creator\n",
        "from deap import tools"
      ],
      "metadata": {
        "id": "6zJ80TwvxWTl"
      },
      "execution_count": 107,
      "outputs": []
    },
    {
      "cell_type": "markdown",
      "source": [
        "# 変数定義\n",
        "DAY : 計画期間（30日間の配送拠点を計画する）\n",
        "LIFT_NUM : リフトの数\n",
        "\n",
        "リフトのデータベース  \n",
        "* id : リフトID\n",
        "* base : 拠点\n",
        "* capacity : 燃料タンク容量[L]\n",
        "* cosumption : 計画期間内のリフト消費量予測(リフト03 : １日3L消費)\n",
        "* initial_remaining : 計画期間初日の燃料残量\n",
        "* remaining : N日目の燃料残量、GA計算中にN日目の燃料残量をシミュレーションするために使用する変数"
      ],
      "metadata": {
        "id": "7dMaRWsR2GB_"
      }
    },
    {
      "cell_type": "code",
      "source": [
        "DAY=30\n",
        "\n",
        "lifts = [\n",
        "  {\n",
        "    \"id\":\"03\",\n",
        "    \"base\": \"kariya\",\n",
        "    \"capacity\": 60,\n",
        "    \"consumption\": [3]*DAY,\n",
        "    \"initial_remaining\": 60,\n",
        "    \"remaining\": 60,\n",
        "  },\n",
        "  {\n",
        "    \"id\":\"30\",\n",
        "    \"base\": \"takahama\",\n",
        "    \"capacity\": 60,\n",
        "    \"consumption\": [2]*DAY,\n",
        "    \"initial_remaining\": 40,\n",
        "    \"remaining\": 40,\n",
        "  },\n",
        "  {\n",
        "    \"id\":\"52\",\n",
        "    \"base\": \"takahama\",\n",
        "    \"capacity\": 60,\n",
        "    \"consumption\": [1]*DAY,\n",
        "    \"initial_remaining\": 10,\n",
        "    \"remaining\": 10,\n",
        "  },\n",
        "  {\n",
        "    \"id\":\"19\",\n",
        "    \"base\": \"higashiura\",\n",
        "    \"capacity\": 60,\n",
        "    \"consumption\": [2]*DAY,\n",
        "    \"initial_remaining\": 30,\n",
        "    \"remaining\": 30,\n",
        "  },\n",
        "  {\n",
        "    \"id\":\"32\",\n",
        "    \"base\": \"higashiura\",\n",
        "    \"capacity\": 60,\n",
        "    \"consumption\": [1]*DAY,\n",
        "    \"initial_remaining\": 10,\n",
        "    \"remaining\": 10,\n",
        "  },\n",
        "]\n",
        "\n",
        "LIFT_NUM=len(lifts)"
      ],
      "metadata": {
        "id": "CdQ-3S0Y7_MJ"
      },
      "execution_count": 122,
      "outputs": []
    },
    {
      "cell_type": "markdown",
      "source": [],
      "metadata": {
        "id": "5NyEvoOv4XKD"
      }
    },
    {
      "cell_type": "markdown",
      "source": [
        "# DEAPモデル構築  \n",
        "遺伝的アルゴリズムの肝となる、親世代から子世代への遺伝方法は、いくつか選択肢があるので、調査してよりよいものを試してみてください\n",
        "* トーナメント方式の選択肢 : https://github.com/DEAP/deap/blob/master/deap/tools/selection.py\n",
        "* 交叉関数の選択肢 : https://github.com/DEAP/deap/blob/master/deap/tools/crossover.py\n",
        "* 突然変異関数の選択肢 : https://github.com/DEAP/deap/blob/master/deap/tools/mutation.py"
      ],
      "metadata": {
        "id": "iI_Gqr9W4ian"
      }
    },
    {
      "cell_type": "code",
      "source": [
        "## 最小化問題として定義するので、-1.0を与える\n",
        "creator.create(\"FitnessMin\", base.Fitness, weights=(-1.0,))\n",
        "## 1計画サンプルの定義、リスト内に30日分の配送計画が格納される\n",
        "creator.create(\"Individual\", list, fitness=creator.FitnessMin)\n",
        "\n",
        "## GAに必要な各種関数の定義\n",
        "toolbox = base.Toolbox()\n",
        "## 1日の配送計画の値の生成方法(各リフトへの給油の組み合わせ=2^LIFT_NUM)\n",
        "toolbox.register(\"attribute\", random.randint, 0, 2**LIFT_NUM)\n",
        "## 各サンプルに含まれる30日分の計画をattributeによって決定することを登録\n",
        "toolbox.register(\"individual\", tools.initRepeat, creator.Individual, toolbox.attribute, DAY)\n",
        "## サンプル集団の個体数を決定するための関数\n",
        "toolbox.register(\"population\", tools.initRepeat, list, toolbox.individual)\n",
        "\n",
        "## トーナメント方式で次世代に子を残す親を選択, サンプル集団内で上から5番めまでのサンプルを次の世代に残す\n",
        "toolbox.register(\"select\", tools.selTournament, tournsize=5)\n",
        "## 交叉関数を設定。2点交叉を採用\n",
        "toolbox.register(\"mate\", tools.cxTwoPoint)\n",
        "## 突然変異関数の設定。0.2の確率で次の世代で突然変異を起こす。変異の幅(low-up)はサンプルが取りうる値の幅\n",
        "toolbox.register(\"mutate\", tools.mutUniformInt, low=0, up=2**LIFT_NUM, indpb=0.2)"
      ],
      "metadata": {
        "id": "t0RvjqxLy5N5",
        "colab": {
          "base_uri": "https://localhost:8080/"
        },
        "outputId": "4682bc76-b126-4c2d-d9e2-ba975c0c9c45"
      },
      "execution_count": 118,
      "outputs": [
        {
          "output_type": "stream",
          "name": "stderr",
          "text": [
            "/usr/local/lib/python3.10/dist-packages/deap/creator.py:185: RuntimeWarning: A class named 'FitnessMin' has already been created and it will be overwritten. Consider deleting previous creation of that class or rename it.\n",
            "  warnings.warn(\"A class named '{0}' has already been created and it \"\n",
            "/usr/local/lib/python3.10/dist-packages/deap/creator.py:185: RuntimeWarning: A class named 'Individual' has already been created and it will be overwritten. Consider deleting previous creation of that class or rename it.\n",
            "  warnings.warn(\"A class named '{0}' has already been created and it \"\n"
          ]
        }
      ]
    },
    {
      "cell_type": "markdown",
      "source": [
        "# 各サンプルの評価関数\n",
        "サンプルの内約  \n",
        "```python\n",
        "[0, 1, 10, 0, ...]\n",
        " |-> 00000 = 1日目、どこにも配送しない\n",
        "    |-> 00001 = 2日目、\"lifts\"の0番目のリフト(03)へ給油\n",
        "       |-> 01010 = 3日目、\"lifts\"の1と3番目のリフトへ給油\n",
        "```"
      ],
      "metadata": {
        "id": "pj-LAwyn6-Or"
      }
    },
    {
      "cell_type": "code",
      "source": [
        "def evalPlan(individual):\n",
        "  \"\"\"各サンプルの評価関数\n",
        "  ~args~\n",
        "  individual : １サンプル\n",
        "  ~returns~\n",
        "  reward : 評価関数の値(末尾に,が必要らしい)\n",
        "  \"\"\"\n",
        "  reward = 0 ## この値を最小化\n",
        "\n",
        "  ## リフトの残燃料を初期化\n",
        "  for lift_index, lift in enumerate(lifts):\n",
        "    lift[\"remaining\"] = lift[\"initial_remaining\"]\n",
        "\n",
        "  ## 配送とリフトの残燃料をシミュレート\n",
        "  for day, supply_plan_in_a_day in enumerate(individual):\n",
        "    delivery = set() ## １日の配送拠点\n",
        "    time = 0 ## 配送にかかった時間[min] (まだ何にも使用してない)\n",
        "\n",
        "    for lift_index, lift in enumerate(lifts):\n",
        "      ## 残燃料が２日分以下になったらペナルティ\n",
        "      if (day+1 < DAY-1 and lift[\"capacity\"] - lift[\"consumption\"][day] - lift[\"consumption\"][day+1] < 0) or \\\n",
        "         (day > 0 and lift[\"capacity\"] - lift[\"consumption\"][day-1] - lift[\"consumption\"][day] < 0):\n",
        "        reward += 1000\n",
        "\n",
        "      ## 予測に基づいて、燃料を消費\n",
        "      lift[\"remaining\"] -= lift[\"consumption\"][day]\n",
        "\n",
        "      ## day日目の給油計画にlift番目のリフトが存在するかチェック(ビット演算)\n",
        "      if supply_plan_in_a_day & (1<<lift_index):\n",
        "        delivery.add(lift[\"base\"]) ## 給油拠点をリストに追加\n",
        "        time += 0.03 * (lift[\"capacity\"] - lift[\"remaining\"]) ## 給油時間を計算\n",
        "        lift[\"remaining\"] = lift[\"capacity\"] ## 燃料満タン\n",
        "\n",
        "    ## 1日の配送拠点に対するペナルティ\n",
        "    for delivery_base in delivery:\n",
        "      reward += 10 # 拠点へ配送した際のペナルティ(適当)\n",
        "      time += 90 # 配送時間90分(適当)\n",
        "\n",
        "  return reward,\n",
        "\n",
        "toolbox.register(\"evaluate\", evalPlan)"
      ],
      "metadata": {
        "id": "YDc1EFta6zj-"
      },
      "execution_count": 126,
      "outputs": []
    },
    {
      "cell_type": "markdown",
      "source": [
        "# 最適化開始\n",
        "パレートフロントを解としているが、多目的最適化問題のための関数な気がする。。。"
      ],
      "metadata": {
        "id": "lylS8sxe9P9h"
      }
    },
    {
      "cell_type": "code",
      "source": [
        "random.seed(64)\n",
        "\n",
        "pop = toolbox.population(n=10000)\n",
        "hof = tools.ParetoFront()\n",
        "stats = tools.Statistics(lambda ind: ind.fitness.values)\n",
        "stats.register(\"avg\", np.mean)\n",
        "stats.register(\"std\", np.std)\n",
        "stats.register(\"min\", np.min)\n",
        "stats.register(\"max\", np.max)\n",
        "\n",
        "pop, log = algorithms.eaSimple(pop, toolbox, cxpb=0.5, mutpb=0.2, ngen=40, stats=stats, halloffame=hof, verbose=True)"
      ],
      "metadata": {
        "colab": {
          "base_uri": "https://localhost:8080/"
        },
        "id": "utECjXxKJj7d",
        "outputId": "ebff2166-21df-4ef9-b68f-9d1c3fee6e6d"
      },
      "execution_count": null,
      "outputs": [
        {
          "output_type": "stream",
          "name": "stdout",
          "text": [
            "gen\tnevals\tavg    \tstd    \tmin\tmax\n",
            "0  \t10000 \t582.103\t46.9456\t390\t760\n",
            "1  \t6009  \t529.899\t37.2634\t390\t680\n",
            "2  \t6130  \t489.902\t35.2447\t330\t630\n",
            "3  \t6089  \t453.862\t34.5743\t300\t610\n",
            "4  \t6006  \t420.975\t34.3654\t290\t630\n",
            "5  \t6006  \t390.373\t34.8076\t270\t570\n",
            "6  \t6122  \t361.385\t35.4713\t240\t560\n",
            "7  \t5991  \t333.15 \t36.5754\t220\t520\n",
            "8  \t5928  \t306.404\t37.8419\t180\t500\n",
            "9  \t6000  \t280.611\t38.5048\t150\t470\n",
            "10 \t6085  \t256.307\t39.876 \t120\t480\n",
            "11 \t5959  \t231.428\t40.5623\t110\t500\n",
            "12 \t6080  \t207.638\t42.8269\t80 \t430\n",
            "13 \t6024  \t184.303\t44.2275\t60 \t410\n",
            "14 \t5939  \t161.911\t45.4295\t60 \t440\n",
            "15 \t5963  \t140.422\t46.1368\t40 \t390\n",
            "16 \t6051  \t120.287\t46.413 \t30 \t360\n",
            "17 \t6062  \t101.434\t47.7877\t10 \t370\n",
            "18 \t6079  \t84.2   \t48.9539\t10 \t350\n",
            "19 \t6019  \t69.832 \t48.9634\t0  \t320\n",
            "20 \t5969  \t57.736 \t49.7576\t0  \t350\n",
            "21 \t6126  \t47.902 \t51.1472\t0  \t310\n",
            "22 \t6007  \t37.352 \t49.6839\t0  \t330\n",
            "23 \t6040  \t30.523 \t51.1192\t0  \t300\n",
            "24 \t5915  \t24.143 \t50.2948\t0  \t330\n",
            "25 \t5887  \t23.033 \t51.0064\t0  \t300\n",
            "26 \t5907  \t22.981 \t50.7053\t0  \t280\n",
            "27 \t6080  \t23.325 \t51.006 \t0  \t310\n",
            "28 \t5916  \t21.746 \t49.0868\t0  \t330\n",
            "29 \t5955  \t23.364 \t51.4485\t0  \t290\n",
            "30 \t5955  \t22.56  \t50.0107\t0  \t310\n",
            "31 \t5928  \t24.042 \t52.0882\t0  \t340\n",
            "32 \t5862  \t22.96  \t50.5854\t0  \t320\n",
            "33 \t5809  \t22.677 \t50.4016\t0  \t300\n",
            "34 \t6014  \t24.066 \t52.0452\t0  \t320\n",
            "35 \t5927  \t22.952 \t50.8471\t0  \t310\n",
            "36 \t5885  \t23.953 \t51.9579\t0  \t330\n"
          ]
        }
      ]
    },
    {
      "cell_type": "markdown",
      "source": [
        "# 結果出力"
      ],
      "metadata": {
        "id": "htYY2N8r-jcm"
      }
    },
    {
      "cell_type": "code",
      "source": [
        "def decodePlan(individual):\n",
        "  \"\"\"配送計画のデコード\n",
        "  ~args~\n",
        "  individual : サンプル\n",
        "  ~returns~\n",
        "  plan : DAY日分の配送計画、給油対象のリフト\n",
        "  \"\"\"\n",
        "  plan = {}\n",
        "  for day, supply_plan_in_a_day in enumerate(individual):\n",
        "    delivery = set()\n",
        "    supply_lift = []\n",
        "    for lift_index, lift in enumerate(lifts):\n",
        "      if supply_plan_in_a_day & (1<<lift_index):\n",
        "        delivery.add(lift[\"base\"])\n",
        "        supply_lift.append(lift[\"id\"])\n",
        "    plan[f\"day_{day+1}\"] = {\"base\":delivery, \"lift\": supply_lift}\n",
        "  return plan"
      ],
      "metadata": {
        "id": "UkqJwZISw-pZ"
      },
      "execution_count": 111,
      "outputs": []
    },
    {
      "cell_type": "code",
      "source": [
        "## 最適なサンプルの抽出\n",
        "best_plan = tools.selBest(pop, 1)[0]\n",
        "## サンプルをデコード\n",
        "plan = decodePlan(best_plan)\n",
        "\n",
        "## 表示\n",
        "print(\"the best plan is \")\n",
        "pprint(plan)\n",
        "print(f\"penalty: {best_plan.fitness.values}\")"
      ],
      "metadata": {
        "id": "CS5kMh050F_2"
      },
      "execution_count": null,
      "outputs": []
    }
  ]
}