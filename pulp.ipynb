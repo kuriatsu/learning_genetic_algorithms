{
  "nbformat": 4,
  "nbformat_minor": 0,
  "metadata": {
    "colab": {
      "provenance": [],
      "toc_visible": true,
      "include_colab_link": true
    },
    "kernelspec": {
      "name": "python3",
      "display_name": "Python 3"
    },
    "language_info": {
      "name": "python"
    }
  },
  "cells": [
    {
      "cell_type": "markdown",
      "metadata": {
        "id": "view-in-github",
        "colab_type": "text"
      },
      "source": [
        "<a href=\"https://colab.research.google.com/github/kuriatsu/learning_genetic_algorithms/blob/main/pulp.ipynb\" target=\"_parent\"><img src=\"https://colab.research.google.com/assets/colab-badge.svg\" alt=\"Open In Colab\"/></a>"
      ]
    },
    {
      "cell_type": "code",
      "execution_count": null,
      "metadata": {
        "colab": {
          "base_uri": "https://localhost:8080/"
        },
        "id": "0vYQkrWyNmzZ",
        "outputId": "a075ddf7-2ed2-4b27-e1fa-7965c4cbaa3a"
      },
      "outputs": [
        {
          "output_type": "stream",
          "name": "stdout",
          "text": [
            "Collecting pulp\n",
            "  Downloading PuLP-2.7.0-py3-none-any.whl (14.3 MB)\n",
            "\u001b[2K     \u001b[90m━━━━━━━━━━━━━━━━━━━━━━━━━━━━━━━━━━━━━━━━\u001b[0m \u001b[32m14.3/14.3 MB\u001b[0m \u001b[31m84.6 MB/s\u001b[0m eta \u001b[36m0:00:00\u001b[0m\n",
            "\u001b[?25hInstalling collected packages: pulp\n",
            "Successfully installed pulp-2.7.0\n"
          ]
        }
      ],
      "source": [
        "!pip install pulp"
      ]
    },
    {
      "cell_type": "markdown",
      "source": [
        "# 必要なモジュールのインポート\n",
        "数理最適化アルゴリズムのパッケージとして、Pulpを使用\n",
        "* 公式ドキュメント https://coin-or.github.io/pulp/  \n",
        "* 日本語公式ブログ https://www.letsopt.com/entry/2020/08/12/232018  \n",
        "* 今回の問題に近い？"
      ],
      "metadata": {
        "id": "WQtFImgwKlkR"
      }
    },
    {
      "cell_type": "code",
      "source": [
        "from pulp import LpProblem, LpMinimize, LpVariable, lpSum, value, LpStatus"
      ],
      "metadata": {
        "id": "Wk1Qp6bJNuIL"
      },
      "execution_count": null,
      "outputs": []
    },
    {
      "cell_type": "markdown",
      "source": [
        "# 入力データベース\n",
        "DAY : 計画期間（30日間の配送拠点を計画する）\n",
        "LIFT_NUM : リフトの数\n",
        "\n",
        "リフトのデータベース  \n",
        "* id : リフトID\n",
        "* base : 拠点\n",
        "* capacity : 燃料タンク容量[L]\n",
        "* cosumption : 1日ごとののリフト消費量予測(リフト03 : 毎日3L消費)\n",
        "* initial_remaining : 計画期間初日の燃料残量\n",
        "* remaining : N日目の燃料残量、GA計算中にN日目の燃料残量をシミュレーションするために使用する変数"
      ],
      "metadata": {
        "id": "wVxgfBLJLvoW"
      }
    },
    {
      "cell_type": "markdown",
      "source": [],
      "metadata": {
        "id": "E9fNBnqLLvfG"
      }
    },
    {
      "cell_type": "code",
      "source": [
        "DAY=30\n",
        "\n",
        "lifts = [\n",
        "  {\n",
        "    \"id\":\"03\",\n",
        "    \"base\": \"kariya\",\n",
        "    \"capacity\": 60,\n",
        "    \"consumption\": [3]*DAY,\n",
        "    \"initial_remaining\": 60,\n",
        "    \"remaining\": 60,\n",
        "  },\n",
        "  {\n",
        "    \"id\":\"30\",\n",
        "    \"base\": \"takahama\",\n",
        "    \"capacity\": 60,\n",
        "    \"consumption\": [2]*DAY,\n",
        "    \"initial_remaining\": 40,\n",
        "    \"remaining\": 40,\n",
        "  },\n",
        "  {\n",
        "    \"id\":\"52\",\n",
        "    \"base\": \"takahama\",\n",
        "    \"capacity\": 60,\n",
        "    \"consumption\": [1]*DAY,\n",
        "    \"initial_remaining\": 10,\n",
        "    \"remaining\": 10,\n",
        "  },\n",
        "  {\n",
        "    \"id\":\"19\",\n",
        "    \"base\": \"higashiura\",\n",
        "    \"capacity\": 60,\n",
        "    \"consumption\": [2]*DAY,\n",
        "    \"initial_remaining\": 30,\n",
        "    \"remaining\": 30,\n",
        "  },\n",
        "  {\n",
        "    \"id\":\"32\",\n",
        "    \"base\": \"higashiura\",\n",
        "    \"capacity\": 60,\n",
        "    \"consumption\": [1]*DAY,\n",
        "    \"initial_remaining\": 10,\n",
        "    \"remaining\": 10,\n",
        "  },\n",
        "]"
      ],
      "metadata": {
        "id": "MsA04I9lTyYw"
      },
      "execution_count": null,
      "outputs": []
    },
    {
      "cell_type": "markdown",
      "source": [
        " # Pulpでの定式化のための変数定義(データベースから抜き出しただけ)\n",
        "課題を01整数計画問題に落とし込んでみた。\n",
        "\n",
        "## 課題\n",
        "* 給油時に燃料残量が回復する部分の定式化に失敗。線形問題ではなくなってしまうため、工夫が必要\n",
        "* 目的関数のfuel_consumptionは燃料消費量ではなく、仮のもの。\n"
      ],
      "metadata": {
        "id": "AzfT1i2mL3XV"
      }
    },
    {
      "cell_type": "code",
      "source": [
        "DATE = [d for d in range(0, DAY)]\n",
        "LIFT_NUM=len(lifts)\n",
        "LIFT = [l[\"id\"] for l in lifts]\n",
        "\n",
        "CONSUMPTION = {}\n",
        "CAPACITY = {}\n",
        "INITIAL_REMAINING = {}\n",
        "BASE = {}\n",
        "\n",
        "for lift in lifts:\n",
        "  CONSUMPTION[lift[\"id\"]] = lift[\"consumption\"]\n",
        "  CAPACITY[lift[\"id\"]] = lift[\"capacity\"]\n",
        "  INITIAL_REMAINING[lift[\"id\"]] = lift[\"initial_remaining\"]\n",
        "\n",
        "  if lift[\"base\"] in BASE.keys():\n",
        "    BASE[lift[\"base\"]].append(lift[\"id\"])\n",
        "  else:\n",
        "    BASE[lift[\"base\"]] = [lift[\"id\"]]"
      ],
      "metadata": {
        "id": "LsYnMuryL2pI"
      },
      "execution_count": null,
      "outputs": []
    },
    {
      "cell_type": "markdown",
      "source": [
        " # 定式化\n",
        " * 目的関数 objective : 給油拠点(`lpSum([delivery_base[d][b] for d in DATE for b in BASE.keys()])`と給油日数`lpSum(delivery_date)`の最小化\n",
        " * 変数\n",
        "  * `remaining[lift][date]` : リフト`lift`の`date`日時点の燃料残量\n",
        "  * `delivery_lift[lift][date]` : リフト`lift`へ`date`日に給油 (このリストを最適化する)\n",
        "  * `delivery_base[date][base]` : `date`日に拠点`base`へ給油（目的関数用、delivery_liftから計算）\n",
        "  * `delivery_day[date]` : `date`日に給油（目的関数用、delivery_liftから計算）\n",
        "  "
      ],
      "metadata": {
        "id": "fuuXVR7YMEle"
      }
    },
    {
      "cell_type": "code",
      "source": [
        "## 変数定義\n",
        "\n",
        "consumption = LpVariable.dicts(\"consumption\", (LIFT, DATE), lowBound=0, cat=\"Continuous\")\n",
        "total_delivery = LpVariable.dicts(\"total_delivery\", (LIFT, DATE), lowBound=0, cat=\"Continuous\")\n",
        "total_consumption = LpVariable.dicts(\"total_consumption\", (LIFT, DATE), lowBound=0, cat=\"Continuous\")\n",
        "delivery_lift = LpVariable.dicts(\"delivery_lift\", (LIFT, DATE), lowBound=0, cat=\"Binary\")\n",
        "delivery_base = LpVariable.dicts(\"delivery_base\", (DATE, BASE.keys()), cat=\"Binary\")\n",
        "delivery_date = LpVariable.dicts(\"delivery_date\", (DATE, BASE.keys()), cat=\"Binary\")\n",
        "\n",
        "\n",
        "## 目的関数\n",
        "objective = lpSum([delivery_base[d][b] for d in DATE for b in BASE.keys()]) + lpSum(delivery_date)\n",
        "\n",
        "## 目的関数登録 (最小化問題)\n",
        "model = LpProblem(\"FuelConsumption\", LpMinimize)\n",
        "model += objective\n",
        "\n",
        "## 制約条件\n",
        "for lift in LIFT:\n",
        "  ## 初日の燃料\n",
        "  model += total_delivery[lift][0] == INITIAL_REMAINING[lift]\n",
        "  model += total_consumption[lift][0] == 0\n",
        "  ## 最終日の燃料残量の制約条件\n",
        "  model += total_delivery[lift][DATE[-1]] - total_consumption[lift][DATE[-1]] - (CONSUMPTION[lift][DATE[-1]] + CONSUMPTION[lift][DATE[-2]]) >= 0\n",
        "\n",
        "  for date in DATE[1:-2]:\n",
        "    ## 燃料残量の推移 (次の日の燃料 = 前日の燃料 - 消費量 + 補給で満タン) <- 定式化失敗、２回目以降の給油でタンク容量をオーバーしてしまう可能性がある\n",
        "    model += total_consumption[lift][date] == total_consumption[lift][date-1] + CONSUMPTION[lift][date]\n",
        "    model += total_delivery[lift][date] == total_delivery[lift][date-1] + CAPACITY[lift] * delivery_lift[lift][date]\n",
        "    ## 燃料残量の制約条件 (平均2日分の燃料消費量を下回らない)\n",
        "    model += total_delivery[lift][date] - total_consumption[lift][date] - (CONSUMPTION[lift][DATE[date]] + CONSUMPTION[lift][DATE[date+1]]) >= 0\n",
        "    ## 給油日\n",
        "    model += delivery_date[date] == delivery_lift[lift][date]\n",
        "    ## date日の給油拠点\n",
        "    for base, lifts_in_base in BASE.items():\n",
        "      if lift in lifts_in_base:\n",
        "        model += delivery_base[date][base] == delivery_lift[lift][date]\n",
        "\n",
        "## 最適化開始\n",
        "sol = model.solve()\n",
        "## 最適化結果、solver stateが Optimalで無い場合は、最適化失敗\n",
        "print(\"solver state: \", LpStatus[sol])\n",
        "print(\"optimized value:\", value(model.objective))"
      ],
      "metadata": {
        "id": "4rbvswGYU7YM",
        "colab": {
          "base_uri": "https://localhost:8080/"
        },
        "outputId": "4e929d96-afc5-49aa-f0c2-32c901d2a653"
      },
      "execution_count": null,
      "outputs": [
        {
          "output_type": "stream",
          "name": "stdout",
          "text": [
            "solver state:  Optimal\n",
            "optimized value: 4.0\n"
          ]
        }
      ]
    },
    {
      "cell_type": "markdown",
      "source": [
        "# 結果表示\n",
        "* delivery_liftにはどのリフトへ何日目に給油すべきかが格納\n",
        "* remainingにはその日の残量(消費->給油後)\n",
        "* delivery_dateには配送拠点"
      ],
      "metadata": {
        "id": "I_ddU3Ns3vZP"
      }
    },
    {
      "cell_type": "code",
      "source": [
        "## 結果可視化\n",
        "for d in DATE:\n",
        "  print(f\"day:{d+1}\")\n",
        "  for l in LIFT:\n",
        "    ## d日のリフトlが給油対象なら、liftsデータベースから対象のリフト情報を入手して表示\n",
        "    if delivery_lift[l][d].value():\n",
        "      for lift in lifts:\n",
        "        if lift[\"id\"] == l:\n",
        "          print(f\"-- BASE: {lift['base']}, LIFT: {lift['id']}, remaining: {value(total_delivery[lift['id']][d]) - value(total_consumption[lift['id']][d])}\")"
      ],
      "metadata": {
        "colab": {
          "base_uri": "https://localhost:8080/"
        },
        "id": "o3DdiN5HDtid",
        "outputId": "c8e86590-fbda-45e8-9ffc-4933f2a34245"
      },
      "execution_count": null,
      "outputs": [
        {
          "output_type": "stream",
          "name": "stdout",
          "text": [
            "day:1\n",
            "day:2\n",
            "day:3\n",
            "day:4\n",
            "day:5\n",
            "day:6\n",
            "day:7\n",
            "day:8\n",
            "day:9\n",
            "day:10\n",
            "-- BASE: kariya, LIFT: 03, remaining: 93.0\n",
            "-- BASE: takahama, LIFT: 30, remaining: 82.0\n",
            "-- BASE: takahama, LIFT: 52, remaining: 61.0\n",
            "-- BASE: higashiura, LIFT: 19, remaining: 72.0\n",
            "-- BASE: higashiura, LIFT: 32, remaining: 61.0\n",
            "day:11\n",
            "day:12\n",
            "day:13\n",
            "day:14\n",
            "day:15\n",
            "day:16\n",
            "day:17\n",
            "day:18\n",
            "day:19\n",
            "day:20\n",
            "day:21\n",
            "day:22\n",
            "day:23\n",
            "day:24\n",
            "day:25\n",
            "day:26\n",
            "day:27\n",
            "day:28\n",
            "day:29\n",
            "day:30\n"
          ]
        }
      ]
    },
    {
      "cell_type": "code",
      "source": [],
      "metadata": {
        "id": "CCKi_bFfpLEb"
      },
      "execution_count": null,
      "outputs": []
    }
  ]
}